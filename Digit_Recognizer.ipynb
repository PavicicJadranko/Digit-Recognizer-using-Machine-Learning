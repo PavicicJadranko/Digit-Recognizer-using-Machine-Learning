{
  "nbformat": 4,
  "nbformat_minor": 0,
  "metadata": {
    "colab": {
      "provenance": [],
      "mount_file_id": "1t-b6d5ZaB8IHuqPb3Hx2ZKpAo2enWmVc",
      "authorship_tag": "ABX9TyMRXYERDMVdIiZWY9WuclUR",
      "include_colab_link": true
    },
    "kernelspec": {
      "name": "python3",
      "display_name": "Python 3"
    },
    "language_info": {
      "name": "python"
    }
  },
  "cells": [
    {
      "cell_type": "markdown",
      "metadata": {
        "id": "view-in-github",
        "colab_type": "text"
      },
      "source": [
        "<a href=\"https://colab.research.google.com/github/PavicicJadranko/Digit-Recognizer-using-Machine-Learning/blob/main/Digit_Recognizer.ipynb\" target=\"_parent\"><img src=\"https://colab.research.google.com/assets/colab-badge.svg\" alt=\"Open In Colab\"/></a>"
      ]
    },
    {
      "cell_type": "markdown",
      "source": [
        "# End-to-end Multi-class Digit Classificaton\n",
        "\n",
        "In this notebook we'll try to make a ML model which correctly identify digits from a dataset of tens of thousands of handwritten images.\n",
        "\n"
      ],
      "metadata": {
        "id": "MYQ5EFmcRmvj"
      }
    },
    {
      "cell_type": "code",
      "source": [],
      "metadata": {
        "id": "jauT8UxNWNDv"
      },
      "execution_count": null,
      "outputs": []
    }
  ]
}